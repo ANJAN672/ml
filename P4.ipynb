{
 "cells": [
  {
   "cell_type": "code",
   "execution_count": 1,
   "id": "887265f2-7c5a-4f24-aff6-d57527dcfa89",
   "metadata": {},
   "outputs": [],
   "source": [
    "import numpy as np\n",
    "import pandas as pd"
   ]
  },
  {
   "cell_type": "code",
   "execution_count": 5,
   "id": "8fb9e138-3cda-4315-8e4c-6224a4a882a1",
   "metadata": {},
   "outputs": [
    {
     "data": {
      "text/html": [
       "<div>\n",
       "<style scoped>\n",
       "    .dataframe tbody tr th:only-of-type {\n",
       "        vertical-align: middle;\n",
       "    }\n",
       "\n",
       "    .dataframe tbody tr th {\n",
       "        vertical-align: top;\n",
       "    }\n",
       "\n",
       "    .dataframe thead th {\n",
       "        text-align: right;\n",
       "    }\n",
       "</style>\n",
       "<table border=\"1\" class=\"dataframe\">\n",
       "  <thead>\n",
       "    <tr style=\"text-align: right;\">\n",
       "      <th></th>\n",
       "      <th>Experience</th>\n",
       "      <th>Qualifications</th>\n",
       "      <th>Skills</th>\n",
       "      <th>Age</th>\n",
       "      <th>Hired</th>\n",
       "    </tr>\n",
       "  </thead>\n",
       "  <tbody>\n",
       "    <tr>\n",
       "      <th>0</th>\n",
       "      <td>Yes</td>\n",
       "      <td>Masters</td>\n",
       "      <td>Python</td>\n",
       "      <td>30</td>\n",
       "      <td>Yes</td>\n",
       "    </tr>\n",
       "    <tr>\n",
       "      <th>1</th>\n",
       "      <td>Yes</td>\n",
       "      <td>Bachelors</td>\n",
       "      <td>Python</td>\n",
       "      <td>25</td>\n",
       "      <td>Yes</td>\n",
       "    </tr>\n",
       "    <tr>\n",
       "      <th>2</th>\n",
       "      <td>No</td>\n",
       "      <td>Bachelors</td>\n",
       "      <td>Java</td>\n",
       "      <td>28</td>\n",
       "      <td>No</td>\n",
       "    </tr>\n",
       "    <tr>\n",
       "      <th>3</th>\n",
       "      <td>Yes</td>\n",
       "      <td>Masters</td>\n",
       "      <td>Java</td>\n",
       "      <td>40</td>\n",
       "      <td>Yes</td>\n",
       "    </tr>\n",
       "    <tr>\n",
       "      <th>4</th>\n",
       "      <td>No</td>\n",
       "      <td>Masters</td>\n",
       "      <td>Python</td>\n",
       "      <td>35</td>\n",
       "      <td>No</td>\n",
       "    </tr>\n",
       "  </tbody>\n",
       "</table>\n",
       "</div>"
      ],
      "text/plain": [
       "  Experience Qualifications  Skills  Age Hired\n",
       "0        Yes        Masters  Python   30   Yes\n",
       "1        Yes      Bachelors  Python   25   Yes\n",
       "2         No      Bachelors    Java   28    No\n",
       "3        Yes        Masters    Java   40   Yes\n",
       "4         No        Masters  Python   35    No"
      ]
     },
     "execution_count": 5,
     "metadata": {},
     "output_type": "execute_result"
    }
   ],
   "source": [
    "data=pd.read_csv('training.xls')\n",
    "data"
   ]
  },
  {
   "cell_type": "code",
   "execution_count": 17,
   "id": "3f821c25-2e94-406e-8e0e-490920666436",
   "metadata": {},
   "outputs": [],
   "source": [
    "def find_s(data):\n",
    "    attributes=data.iloc[:,:-1].values\n",
    "    target=data.iloc[:,-1].values\n",
    "    for i in range(len(target)):\n",
    "        if target[i]==\"Yes\":\n",
    "            hyp=attributes[i].copy()\n",
    "        break\n",
    "    for i in range(len(target)):\n",
    "        if target[i]==\"Yes\":\n",
    "            for j in range(len(hyp)):\n",
    "                if hyp[j]!=attributes[i][j]:\n",
    "                    hyp[j]='?'\n",
    "    return hyp\n",
    "    "
   ]
  },
  {
   "cell_type": "code",
   "execution_count": 19,
   "id": "223fd5f0-402c-4132-b28a-d39cd293ecc2",
   "metadata": {},
   "outputs": [],
   "source": [
    "fin_hyp=find_s(data)"
   ]
  },
  {
   "cell_type": "code",
   "execution_count": 5,
   "id": "be18f9ea-4c46-4f9e-8ae6-c63393166062",
   "metadata": {},
   "outputs": [
    {
     "name": "stdout",
     "output_type": "stream",
     "text": [
      "array(['Yes', '?', '?', '?'], dtype=object)\n"
     ]
    }
   ],
   "source": [
    "fin_hyp"
   ]
  },
  {
   "cell_type": "code",
   "execution_count": null,
   "id": "fd98743e-95b3-4f16-8f25-21df687fd6f7",
   "metadata": {},
   "outputs": [],
   "source": []
  }
 ],
 "metadata": {
  "kernelspec": {
   "display_name": "Python 3 (ipykernel)",
   "language": "python",
   "name": "python3"
  },
  "language_info": {
   "codemirror_mode": {
    "name": "ipython",
    "version": 3
   },
   "file_extension": ".py",
   "mimetype": "text/x-python",
   "name": "python",
   "nbconvert_exporter": "python",
   "pygments_lexer": "ipython3",
   "version": "3.12.7"
  }
 },
 "nbformat": 4,
 "nbformat_minor": 5
}
